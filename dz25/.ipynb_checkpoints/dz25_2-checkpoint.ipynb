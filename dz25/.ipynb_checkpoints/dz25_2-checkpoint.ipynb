{
 "cells": [
  {
   "cell_type": "markdown",
   "id": "994118d3",
   "metadata": {},
   "source": [
    "#### Задача 2\n",
    "\n",
    "|Y   |X=10 |X=5 |X=2 |X=1 |X=-5|P(y)|\n",
    "|----|-----|----|----|----|----|----|\n",
    "|20  |0.01 |0.03|0.02|0.03|0.01|0.1 |\n",
    "|10  |0.03 |0.09|0.06|0.09|0.03|0.3 |\n",
    "|2   |0.02 |0.06|0.04|0.06|0.02|0.2 |\n",
    "|-2  |0.03 |0.09|0.06|0.09|0.03|0.3 |\n",
    "|-8  |0.01 |0.03|0.02|0.03|0.01|0.1 |\n",
    "|P(x)|0.1  |0.3 |0.2 |0.3 |0.1 |1   |\n",
    "\n",
    "\n"
   ]
  },
  {
   "cell_type": "code",
   "execution_count": 27,
   "id": "e51e755a",
   "metadata": {},
   "outputs": [
    {
     "name": "stdout",
     "output_type": "stream",
     "text": [
      "Норма прибутку по кожній з акцій\n",
      "Акція X = 2.7 % Акція Y = 4.0 %\n",
      "Ступінь ризику акцій\n",
      "X = 3.7 %,  Y = 7.9 %\n",
      "Коваріація  cov(xy)=-0.00000\n",
      "Кореляція  Rxy=-0.00000\n",
      "Акції є інвестиційно не привабливі та взаємонезалежні\n"
     ]
    }
   ],
   "source": [
    "x=[10,5,2,1,-5]\n",
    "y=[20,10,2,-2,-8]\n",
    "px=[0.1,0.3,0.2,0.3,0.1]\n",
    "py=[0.1,0.3,0.2,0.3,0.1]\n",
    "pxy=[[0.01,0.03,0.02,0.03,0.01],\n",
    "     [0.03,0.09,0.06,0.09,0.03],\n",
    "     [0.02,0.06,0.04,0.06,0.02],\n",
    "     [0.03,0.09,0.06,0.09,0.03],\n",
    "     [0.01,0.03,0.02,0.03,0.01]]\n",
    "n=5\n",
    "\n",
    "# Математичне сподівання\n",
    "mxy=0  \n",
    "mx=0\n",
    "my=0\n",
    "for i in range(n):\n",
    "    mx+=x[i]*px[i]\n",
    "    my+=y[i]*py[i]\n",
    "    for j in range(n):\n",
    "        mxy+=y[i]*x[j]*pxy[i][j]\n",
    "print('Норма прибутку по кожній з акцій')\n",
    "print('Акція X = {0:1.1f}'.format(mx),'%','Акція Y = {0:1.1f}'.format(my),'%')\n",
    "\n",
    "# Дисперсія \n",
    "dx=0 \n",
    "dy=0\n",
    "for i in range(n):\n",
    "    dx+=x[i]*x[i]*px[i]\n",
    "    dy+=y[i]*y[i]*py[i]\n",
    "dx=dx-mx*mx\n",
    "dy=dy-my*my\n",
    "\n",
    "# Середньоквадратичне відхилення\n",
    "print('Ступінь ризику акцій')\n",
    "print('X = {0:1.1f}'.format(dx**0.5),'%,  '\"Y = {0:1.1f}\".format(dy**0.5),\"%\")\n",
    "\n",
    "# Коваріація та кореляція\n",
    "cov=mxy-mx*my\n",
    "print(\"Коваріація  cov(xy)={0:8.5f}\".format(cov))\n",
    "\n",
    "rxy=cov/(dx*dy)**0.5\n",
    "print(\"Кореляція  Rxy={0:8.5f}\".format(rxy))\n",
    "print(\"Акції є інвестиційно не привабливі та взаємонезалежні\")"
   ]
  },
  {
   "cell_type": "code",
   "execution_count": null,
   "id": "cb112759",
   "metadata": {},
   "outputs": [],
   "source": []
  }
 ],
 "metadata": {
  "kernelspec": {
   "display_name": "Python 3 (ipykernel)",
   "language": "python",
   "name": "python3"
  },
  "language_info": {
   "codemirror_mode": {
    "name": "ipython",
    "version": 3
   },
   "file_extension": ".py",
   "mimetype": "text/x-python",
   "name": "python",
   "nbconvert_exporter": "python",
   "pygments_lexer": "ipython3",
   "version": "3.10.8"
  }
 },
 "nbformat": 4,
 "nbformat_minor": 5
}
