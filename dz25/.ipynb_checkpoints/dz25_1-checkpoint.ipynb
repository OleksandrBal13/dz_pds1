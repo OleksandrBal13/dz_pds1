{
 "cells": [
  {
   "cell_type": "markdown",
   "id": "7da50ac2",
   "metadata": {},
   "source": [
    "#### Задача 1\n",
    "Ймовірність того, що при перевірці деталь виявиться стандартною, дорівнює 0,6. Перевірці підлягають три деталі. Побудувати закон розподілу двох дискретних випадкових величин X - появи числа бракованих деталей і Y - появи числа стандартних деталей. Обчислити коефіцієнт кореляції $r_xy$."
   ]
  },
  {
   "cell_type": "code",
   "execution_count": 16,
   "id": "f924cabf",
   "metadata": {},
   "outputs": [
    {
     "name": "stdout",
     "output_type": "stream",
     "text": [
      "0.216\n",
      "0.432\n",
      "0.288\n",
      "0.064\n"
     ]
    }
   ],
   "source": [
    "# Ймовірності подій з різними комбінаціями бракованих і стандартних деталей\n",
    "px = 0.4\n",
    "py = 0.6\n",
    "\n",
    "# p1: X = 0, Y = 3 \n",
    "p1 = py ** 3\n",
    "print('%.3f' % p1)\n",
    "\n",
    "# p2: X = 1, Y = 2 \n",
    "p2 = px * (py ** 2) * 3\n",
    "\n",
    "print('%.3f' % p2)\n",
    "\n",
    "# p3: X = 2, Y = 1 \n",
    "p3 = px ** 2 * py * 3\n",
    "\n",
    "print('%.3f' % p3)\n",
    "\n",
    "# p4: X = 3, Y = 0 \n",
    "p4 = px ** 3\n",
    "\n",
    "print('%.3f' % p4)\n"
   ]
  },
  {
   "cell_type": "markdown",
   "id": "4b786599",
   "metadata": {},
   "source": [
    "Розподіл випадкових величин виглядає наступним чином:\n",
    "\n",
    "|$i$|0|1|2|3|\n",
    "|-|-|-|-|-|\n",
    "|$P(Х_i)$|0.216|0.432|0.288|0.064|\n",
    "\n",
    "|$i$|0|1|2|3|\n",
    "|-|-|-|-|-|\n",
    "|$P(Y_i)$|0.064|0.288|0.432|0.216|"
   ]
  },
  {
   "cell_type": "code",
   "execution_count": 31,
   "id": "c389f3ea",
   "metadata": {},
   "outputs": [
    {
     "name": "stdout",
     "output_type": "stream",
     "text": [
      "1.2000000000000002 1.7999999999999998 1.44\n"
     ]
    }
   ],
   "source": [
    "px0 = p1\n",
    "px1 = p2\n",
    "px2 = p3\n",
    "px3 = p4\n",
    "py0 = p4\n",
    "py1 = p3\n",
    "py2 = p2\n",
    "py3 = p1\n",
    "\n",
    "# Мат. очікування\n",
    "\n",
    "mx = 0 * px0 + 1 * px1 + 2 * px2 + 3 * px3\n",
    "my = 0 * py0 + 1 * py1 + 2 * py2 + 3 * py3\n",
    "mxy = 0 * 3 * p1 + 1 * 2 * p2 + 2 * 1 * p3 + 3 * 0 * p4\n",
    "\n",
    "\n",
    "\n",
    "print (mx, my, mxy)"
   ]
  },
  {
   "cell_type": "code",
   "execution_count": 30,
   "id": "f0aeed11",
   "metadata": {},
   "outputs": [
    {
     "name": "stdout",
     "output_type": "stream",
     "text": [
      "0.7199999999999998 0.7200000000000006\n"
     ]
    }
   ],
   "source": [
    "# Дисперсія\n",
    "\n",
    "dx = 0**2 * px0 + 1**2 * px1 + 2**2 * px2 + 3**2 * px3 - mx**2\n",
    "dy = 0**2 * py0 + 1**2 * py1 + 2**2 * py2 + 3**2 * py3 - my**2\n",
    "\n",
    "print(dx, dy)"
   ]
  },
  {
   "cell_type": "code",
   "execution_count": 35,
   "id": "49d6005f",
   "metadata": {},
   "outputs": [
    {
     "name": "stdout",
     "output_type": "stream",
     "text": [
      "-0.7200000000000002\n",
      "-1.0\n"
     ]
    }
   ],
   "source": [
    "# коваріація та кореляція\n",
    "covxy = mxy - mx*my\n",
    "print(covxy)\n",
    "corxy = covxy / ((dx ** 0.5) * (dy ** 0.5))\n",
    "print(corxy)"
   ]
  },
  {
   "cell_type": "markdown",
   "id": "6d704793",
   "metadata": {},
   "source": [
    "Коеф. кореляція -1 звідчить про зворотній взаємозв'язок"
   ]
  }
 ],
 "metadata": {
  "kernelspec": {
   "display_name": "Python 3 (ipykernel)",
   "language": "python",
   "name": "python3"
  },
  "language_info": {
   "codemirror_mode": {
    "name": "ipython",
    "version": 3
   },
   "file_extension": ".py",
   "mimetype": "text/x-python",
   "name": "python",
   "nbconvert_exporter": "python",
   "pygments_lexer": "ipython3",
   "version": "3.10.8"
  }
 },
 "nbformat": 4,
 "nbformat_minor": 5
}
