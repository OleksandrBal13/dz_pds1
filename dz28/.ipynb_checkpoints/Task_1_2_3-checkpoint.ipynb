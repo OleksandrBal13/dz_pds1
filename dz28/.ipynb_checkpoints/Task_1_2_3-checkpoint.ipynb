{
 "cells": [
  {
   "cell_type": "markdown",
   "id": "7c8ac7ba",
   "metadata": {},
   "source": [
    "#### Завдання 1\n",
    "Завдання 1\n",
    "З генеральної сукупності, розподіленої за нормальним законом, отримано вибірку об'ємом n = 20.\n",
    "Знайти з надійністю y = 0.95 інтервальну оцінку для середньо квадратичного відхилення f генеральної сукупності."
   ]
  },
  {
   "cell_type": "code",
   "execution_count": 12,
   "id": "c5cfc2da",
   "metadata": {},
   "outputs": [
    {
     "name": "stdout",
     "output_type": "stream",
     "text": [
      "4.0\n"
     ]
    }
   ],
   "source": [
    "import numpy as np\n",
    "\n",
    "gamma = 0.95\n",
    "v = 20\n",
    "x = np.array([1, 2, 4, 6, 7])\n",
    "n = np.array([2, 3, 10, 3, 2])\n",
    "X = np.sum(x * n) / np.sum(n)\n",
    "\n",
    "print(X)"
   ]
  },
  {
   "cell_type": "code",
   "execution_count": 17,
   "id": "b6066431",
   "metadata": {},
   "outputs": [
    {
     "name": "stdout",
     "output_type": "stream",
     "text": [
      "1.7770466332772772\n"
     ]
    }
   ],
   "source": [
    "# виправлена дисперсія\n",
    "s_sqrt = ((x[0]-X)**2*n[0]+(x[1]-X)**2*n[1]+(x[2]-X)**2*n[2]+(x[3]-X)**2*n[3]+(x[4]-X)**2*n[4])/(v-1)\n",
    "s = s_sqrt**0.5\n",
    "print(s)"
   ]
  },
  {
   "cell_type": "code",
   "execution_count": 23,
   "id": "71cfc828",
   "metadata": {},
   "outputs": [
    {
     "name": "stdout",
     "output_type": "stream",
     "text": [
      "Довірчий інтервал генеральної сукупності знаходиться в межах 1.12 - 2.43\n"
     ]
    }
   ],
   "source": [
    "q = 0.37\n",
    "# оскільки q < 1 то:\n",
    "S_min = s * (1 - q)\n",
    "S_max = s * (1 + q)\n",
    "print(f'Довірчий інтервал генеральної сукупності знаходиться в межах {round(S_min,2)} - {round(S_max,2)}' )"
   ]
  },
  {
   "cell_type": "markdown",
   "id": "e6ce9ee8",
   "metadata": {},
   "source": [
    "#### Завдання 2\n",
    "Знайти з надійністю 0.95 інтервальну оцінку для ймовірності настання події А в кожному із n = 100 незалежних повторних випробувань, якщо подія відбулась m = 40 раз."
   ]
  },
  {
   "cell_type": "code",
   "execution_count": 25,
   "id": "a63b10d0",
   "metadata": {},
   "outputs": [
    {
     "name": "stdout",
     "output_type": "stream",
     "text": [
      "Довірчий інтервал для ймовірності настання події А знаходиться в межах 0.31 - 0.5\n"
     ]
    }
   ],
   "source": [
    "y = 0.95\n",
    "n = 100\n",
    "m = 40\n",
    "t = 1.96\n",
    "\n",
    "S_min = 1/(t ** 2 + n) * ((m + (t ** 2)/2) - t*((m*(n-m))/n + (t ** 2) / 4) ** 0.5)\n",
    "S_max = 1/(t ** 2 + n) * ((m + (t ** 2)/2) + t*((m*(n-m))/n + (t ** 2) / 4) ** 0.5)\n",
    "\n",
    "print(f'Довірчий інтервал для ймовірності настання події А знаходиться в межах {round(S_min, 2)} - {round(S_max, 2)}')"
   ]
  },
  {
   "cell_type": "markdown",
   "id": "4adc5656",
   "metadata": {},
   "source": [
    "#### Завдання 3\n",
    "Знайти мінімальний об'єм вибірки, при якому з надійністю 0.99 точність оцінки математичного сподівання а нормально розподіленої ознаки дорівнює 0.6, якщо середнє квадратичне відхилення = 3."
   ]
  },
  {
   "cell_type": "code",
   "execution_count": 26,
   "id": "9f3f643c",
   "metadata": {},
   "outputs": [
    {
     "name": "stdout",
     "output_type": "stream",
     "text": [
      "Мінімальний об'єм вибірки дорівнює 166.0\n"
     ]
    }
   ],
   "source": [
    "t = 2.58\n",
    "delta = 0.6\n",
    "s = 3\n",
    "gamma = 0.99\n",
    "v = (t**2 * s**2)/delta**2\n",
    "print(f'Мінімальний об\\'єм вибірки дорівнює {round(v, 0)}')\n"
   ]
  },
  {
   "cell_type": "code",
   "execution_count": null,
   "id": "26745ca8",
   "metadata": {},
   "outputs": [],
   "source": []
  }
 ],
 "metadata": {
  "kernelspec": {
   "display_name": "Python 3 (ipykernel)",
   "language": "python",
   "name": "python3"
  },
  "language_info": {
   "codemirror_mode": {
    "name": "ipython",
    "version": 3
   },
   "file_extension": ".py",
   "mimetype": "text/x-python",
   "name": "python",
   "nbconvert_exporter": "python",
   "pygments_lexer": "ipython3",
   "version": "3.10.8"
  }
 },
 "nbformat": 4,
 "nbformat_minor": 5
}
