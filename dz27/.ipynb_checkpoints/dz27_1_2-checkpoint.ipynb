{
 "cells": [
  {
   "cell_type": "markdown",
   "id": "8b17a537",
   "metadata": {},
   "source": [
    "#### Завдання 1\n",
    "Мікропроцесор має 10000 транзисторів, які працюють незалежно один від одного. Імовірність того, що транзистор вийде з ладу під час роботи, є величиною малоймовірною і становить 0,0007. Визначити математичне сподівання і середнє квадратичне відхилення випадкової величини X - числа транзисторів, що вийдуть із ладу під час роботи мікропроцесора."
   ]
  },
  {
   "cell_type": "code",
   "execution_count": 5,
   "id": "dbfa005c",
   "metadata": {},
   "outputs": [
    {
     "name": "stdout",
     "output_type": "stream",
     "text": [
      "Математичне сподівання = 7.0\n"
     ]
    }
   ],
   "source": [
    "n = 10000\n",
    "p = 0.0007\n",
    "mx = n * p\n",
    "print(f'Математичне сподівання = {mx}')"
   ]
  },
  {
   "cell_type": "markdown",
   "id": "50e066c8",
   "metadata": {},
   "source": [
    "Оскільки кількість \"спроб\" велика (10к), ймовірність близько нуля (0,0007), а математичне сподівання менше 10 (а саме 7), \n",
    "то умови відповідають Пуассонівському розподілу."
   ]
  },
  {
   "cell_type": "code",
   "execution_count": 7,
   "id": "e4fc4baf",
   "metadata": {},
   "outputs": [
    {
     "name": "stdout",
     "output_type": "stream",
     "text": [
      "Дисперсія = 7.0\n"
     ]
    }
   ],
   "source": [
    "dx = mx\n",
    "print(f'Дисперсія = {dx}')"
   ]
  },
  {
   "cell_type": "code",
   "execution_count": 9,
   "id": "ef58ad6f",
   "metadata": {},
   "outputs": [
    {
     "name": "stdout",
     "output_type": "stream",
     "text": [
      "Середньоквадратичне відхилення = 2.65\n"
     ]
    }
   ],
   "source": [
    "varx = dx ** 0.5\n",
    "print(f'Середньоквадратичне відхилення = {round(varx,2)}')"
   ]
  },
  {
   "cell_type": "markdown",
   "id": "ca255ea7",
   "metadata": {},
   "source": [
    "#### Завдання 2\n",
    "У рибальському містечку 99,99% чоловіків хоча б раз в житті були на рибалці. Проводять соціологічні дослідження серед 10000 навмання вибраних чоловіків. Визначити дисперсію \n",
    " і середнє квадратичне відхилення випадкової величини Х - числа чоловіків, які жодного разу не були на рибалці."
   ]
  },
  {
   "cell_type": "code",
   "execution_count": 12,
   "id": "2ba9c289",
   "metadata": {},
   "outputs": [
    {
     "name": "stdout",
     "output_type": "stream",
     "text": [
      "Математичне сподівання = 1.0\n"
     ]
    }
   ],
   "source": [
    "# знайдемо ймовірність обрати чоловіка, який жодного разу не був на риболовлі\n",
    "n = 10000\n",
    "p = 1 - 0.9999\n",
    "mx = n * p\n",
    "print(f'Математичне сподівання = {round(mx,2)}')"
   ]
  },
  {
   "cell_type": "code",
   "execution_count": 16,
   "id": "e3cf8a5a",
   "metadata": {},
   "outputs": [
    {
     "name": "stdout",
     "output_type": "stream",
     "text": [
      "Дисперсія = 1.0\n"
     ]
    }
   ],
   "source": [
    "dx = mx\n",
    "print(f'Дисперсія = {round(dx,2)}')"
   ]
  },
  {
   "cell_type": "code",
   "execution_count": 17,
   "id": "15be5b4f",
   "metadata": {},
   "outputs": [
    {
     "name": "stdout",
     "output_type": "stream",
     "text": [
      "Середньоквадратичне відхилення = 1.0\n"
     ]
    }
   ],
   "source": [
    "varx = dx ** 0.5\n",
    "print(f'Середньоквадратичне відхилення = {round(varx,2)}')"
   ]
  },
  {
   "cell_type": "code",
   "execution_count": null,
   "id": "822be1f5",
   "metadata": {},
   "outputs": [],
   "source": []
  }
 ],
 "metadata": {
  "kernelspec": {
   "display_name": "Python 3 (ipykernel)",
   "language": "python",
   "name": "python3"
  },
  "language_info": {
   "codemirror_mode": {
    "name": "ipython",
    "version": 3
   },
   "file_extension": ".py",
   "mimetype": "text/x-python",
   "name": "python",
   "nbconvert_exporter": "python",
   "pygments_lexer": "ipython3",
   "version": "3.10.8"
  }
 },
 "nbformat": 4,
 "nbformat_minor": 5
}
