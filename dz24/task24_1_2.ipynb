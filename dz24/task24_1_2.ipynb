{
 "cells": [
  {
   "cell_type": "code",
   "execution_count": 19,
   "id": "c8ded58e",
   "metadata": {},
   "outputs": [
    {
     "name": "stdout",
     "output_type": "stream",
     "text": [
      "Якщо обраний документ виявився із суттєвою помилкою, то із ймовірністю  25.0 % його склав перший економіст\n"
     ]
    }
   ],
   "source": [
    "# Task 1\n",
    "\n",
    "p1 = 0.1\n",
    "q1_total = 40\n",
    "q1_fail = p1*q1_total\n",
    "\n",
    "p2 = 0.2\n",
    "q2_total = 60\n",
    "q2_fail = p2*q2_total\n",
    "\n",
    "total_fail = q1_fail + q2_fail\n",
    "\n",
    "p1_total = q1_fail/total_fail\n",
    "\n",
    "print(\"Якщо обраний документ виявився із суттєвою помилкою, то із ймовірністю \", p1_total*100, \"% його склав перший економіст\")"
   ]
  },
  {
   "cell_type": "code",
   "execution_count": 49,
   "id": "90eea6f7",
   "metadata": {},
   "outputs": [
    {
     "name": "stdout",
     "output_type": "stream",
     "text": [
      "Доцільно обрати варіант Y із прибутком 1350.0 і стандартним відхиленням 300.0\n"
     ]
    }
   ],
   "source": [
    "# Task 2\n",
    "import math\n",
    "\n",
    "x1 = 1000\n",
    "x2 = 1500\n",
    "x3 = 2000\n",
    "px1 = 0.5\n",
    "px2 = 0.3\n",
    "px3 = 0.2\n",
    "\n",
    "ev_x = x1*px1 + x2*px2 + x3*px3\n",
    "var_x = x1**2 * px1 + x2**2 * px2 + x3**2 * px3 - ev_x**2\n",
    "sd_x = math.sqrt(var_x)\n",
    "\n",
    "y1 = 1000\n",
    "y2 = 1500\n",
    "y3 = 1750\n",
    "py1 = 0.4\n",
    "py2 = 0.4\n",
    "py3 = 0.2\n",
    "\n",
    "ev_y = y1*py1 + y2*py2 + y3*py3\n",
    "var_y = y1**2 * py1 + y2**2 * py2 + y3**2 * py3 - ev_y**2\n",
    "sd_y = math.sqrt(var_y)\n",
    "\n",
    "def decision(x1,x2,y1,y2):\n",
    "    if x2 > y2:\n",
    "        return f\"Доцільно обрати варіант Y із прибутком {y1} і стандартним відхиленням {y2}\"\n",
    "    if x2 == y2:\n",
    "        return f\"Обидва варіанти пропонують прибутковість в {x} у.о. і однакове відхилення\"\n",
    "    else:\n",
    "        return f\"Доцільно обрати варіант X із прибутком {x1} і стандартним відхиленням {x2}\"\n",
    "\n",
    "print(decision(profit_x,sd_x,profit_y,sd_y))"
   ]
  },
  {
   "cell_type": "code",
   "execution_count": null,
   "id": "cda3523b",
   "metadata": {},
   "outputs": [],
   "source": []
  }
 ],
 "metadata": {
  "kernelspec": {
   "display_name": "Python 3 (ipykernel)",
   "language": "python",
   "name": "python3"
  },
  "language_info": {
   "codemirror_mode": {
    "name": "ipython",
    "version": 3
   },
   "file_extension": ".py",
   "mimetype": "text/x-python",
   "name": "python",
   "nbconvert_exporter": "python",
   "pygments_lexer": "ipython3",
   "version": "3.10.8"
  }
 },
 "nbformat": 4,
 "nbformat_minor": 5
}
