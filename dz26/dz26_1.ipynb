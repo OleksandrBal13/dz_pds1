{
 "cells": [
  {
   "cell_type": "markdown",
   "id": "4269b913",
   "metadata": {},
   "source": [
    "#### Завдання 1\n",
    "Ймовірність того, що телевізор витримає гарантійний термін роботи = 0,9 \n",
    "Кількість телевізорів 100 \n",
    "Оцінити ймовірність того, що число телевізорів, які витримають гарантійний термін роботи, буде від 85 до 95"
   ]
  },
  {
   "cell_type": "code",
   "execution_count": 12,
   "id": "dc8bc7c0",
   "metadata": {},
   "outputs": [
    {
     "name": "stdout",
     "output_type": "stream",
     "text": [
      "90.0\n",
      "8.999999999999998\n",
      "5 5\n"
     ]
    }
   ],
   "source": [
    "# Математичне сподівання кількості телевізорів, які витримають гарантійний термін\n",
    "mx= 100 * 0.9\n",
    "\n",
    "# Дисперсія\n",
    "varx = mx * (1 - 0.9)\n",
    "\n",
    "# Відхилення\n",
    "devx1 = 95-90\n",
    "devx2 = 90-85\n",
    "\n",
    "# Ймовірність\n",
    "p = 1 - (varx / (devx1 * devx2))\n"
   ]
  },
  {
   "cell_type": "code",
   "execution_count": 21,
   "id": "43fb2811",
   "metadata": {},
   "outputs": [
    {
     "name": "stdout",
     "output_type": "stream",
     "text": [
      "Ймовірність того, що гарантійний термін витримають від 85 до 95 телевізорів із ста складає X = 64.0 %\n"
     ]
    }
   ],
   "source": [
    "print(\"Ймовірність того, що гарантійний термін витримають від 85 до 95 телевізорів із ста складає\", 'X = {0:1.1f}'.format(p*100), \"%\" )"
   ]
  }
 ],
 "metadata": {
  "kernelspec": {
   "display_name": "Python 3 (ipykernel)",
   "language": "python",
   "name": "python3"
  },
  "language_info": {
   "codemirror_mode": {
    "name": "ipython",
    "version": 3
   },
   "file_extension": ".py",
   "mimetype": "text/x-python",
   "name": "python",
   "nbconvert_exporter": "python",
   "pygments_lexer": "ipython3",
   "version": "3.10.8"
  }
 },
 "nbformat": 4,
 "nbformat_minor": 5
}
