{
 "cells": [
  {
   "cell_type": "code",
   "execution_count": 1,
   "id": "84509840",
   "metadata": {},
   "outputs": [
    {
     "name": "stdout",
     "output_type": "stream",
     "text": [
      "[ 12.  36.  60.  84. 108. 132. 156. 180. 204.]\n",
      "Середня значення дорівнює 114.72\n",
      "Дисперсія дорівнює 1452.44\n",
      "Стандартне відхилення вибірки дорівнює 38.11\n",
      "Zi-1 = [       -inf -2.38042061 -1.75067971 -1.12093881 -0.4911979   0.138543\n",
      "  0.7682839   1.3980248   2.02776571]\n",
      "Zi = [-2.38042061 -1.75067971 -1.12093881 -0.4911979   0.138543    0.7682839\n",
      "  1.3980248   2.02776571        -inf]\n",
      "Pi = [0.01, 0.03, 0.09, 0.18, 0.24, 0.22, 0.14, 0.06, 0.02]\n",
      "Ni = [0.0, 2.0, 4.0, 9.0, 12.0, 11.0, 7.0, 3.0, 1.0]\n",
      "n - n_i = [1.0, 0.0, 0.0, -3.0, 0.0, 5.0, -1.0, -1.0, 0.0]\n",
      "n - n_i ^ 2 = [1.0, 0.0, 0.0, 9.0, 0.0, 25.0, 1.0, 1.0, 0.0]\n",
      "k emp = 3.749\n",
      "Наша гіпотеза Н0 вірна\n"
     ]
    },
    {
     "name": "stderr",
     "output_type": "stream",
     "text": [
      "C:\\Users\\Administrator\\AppData\\Local\\Temp\\ipykernel_15316\\1056948330.py:47: RuntimeWarning: divide by zero encountered in double_scalars\n",
      "  k_emp = [n_dif_sqr[i] / n_i[i] for i in range(len(n_dif_sqr))]\n"
     ]
    }
   ],
   "source": [
    "import numpy as np\n",
    "\n",
    "x_i = [[0, 24], [24, 48], [48, 72], [72, 96], [96, 120],\n",
    "       [120, 144], [144, 168], [168, 192], [192, 216]]\n",
    "x = np.array([(item[0] + item[1])/2 for item in x_i])\n",
    "print(x)\n",
    "\n",
    "n = np.array([1, 2, 4, 6, 12, 16, 6, 2, 1])\n",
    "mean_x = sum(x * n) / sum(n)\n",
    "print(f'Середня значення дорівнює {mean_x}')\n",
    "\n",
    "var_x = sum(x ** 2 * n) / sum(n) - (mean_x ** 2)\n",
    "print(f'Дисперсія дорівнює {round(var_x, 2)}')\n",
    "\n",
    "sd_x = var_x ** 0.5\n",
    "print(f'Стандартне відхилення вибірки дорівнює {round(sd_x, 2)}')\n",
    "\n",
    "z_min = np.array([(item[0]-mean_x)/sd_x for item in x_i])\n",
    "z_min[0] = \"-inf\"\n",
    "print(f'Zi-1 = {z_min}')\n",
    "z_max = np.array([(item[1]-mean_x)/sd_x for item in x_i])\n",
    "z_max[-1] = \"-inf\"\n",
    "print(f'Zi = {z_max}')\n",
    "\n",
    "lap_z_min = [-0.5 , -0.4913, -0.4599, -0.3686, -0.1879, 0.0557, 0.2794, 0.4192, 0.4788]\n",
    "lap_z_max = [-0.4913, -0.4599, -0.3686, -0.1879, 0.0557, 0.2794, 0.4192, 0.4788, 0.5]\n",
    "p_old = [lap_z_max[i] - lap_z_min[i] for i in range(len(lap_z_min))]\n",
    "p_i = []\n",
    "for i in p_old:\n",
    "    new_i = round(i, 2)\n",
    "    p_i.append(new_i)\n",
    "print(f'Pi = {p_i}')\n",
    "\n",
    "n_i = []\n",
    "for i in p_i:\n",
    "    new_i = round(i * 50, 0)\n",
    "    n_i.append(new_i)\n",
    "print(f'Ni = {n_i}')\n",
    "\n",
    "n_dif = [n[i] - n_i[i] for i in range(len(n))]\n",
    "print(f'n - n_i = {n_dif}')\n",
    "\n",
    "n_dif_sqr = [n_dif[i] **2 for i in range(len(n_dif))]\n",
    "print(f'n - n_i ^ 2 = {n_dif_sqr}')\n",
    "\n",
    "\n",
    "k_emp = [n_dif_sqr[i] / n_i[i] for i in range(len(n_dif_sqr))]\n",
    "k_emp[0] = 0\n",
    "print(f'k emp = {round(sum(k_emp),3)}')\n",
    "\n",
    "l = 0.01\n",
    "r = 9 - 2 - 1\n",
    "k_crit = 16.8\n",
    "\n",
    "if k_crit > sum(k_emp):\n",
    "    print(\"Наша гіпотеза Н0 вірна\")\n",
    "else:\n",
    "    print(\"Нє\")\n"
   ]
  },
  {
   "cell_type": "code",
   "execution_count": null,
   "id": "b1d85c3a",
   "metadata": {},
   "outputs": [],
   "source": []
  }
 ],
 "metadata": {
  "kernelspec": {
   "display_name": "Python 3 (ipykernel)",
   "language": "python",
   "name": "python3"
  },
  "language_info": {
   "codemirror_mode": {
    "name": "ipython",
    "version": 3
   },
   "file_extension": ".py",
   "mimetype": "text/x-python",
   "name": "python",
   "nbconvert_exporter": "python",
   "pygments_lexer": "ipython3",
   "version": "3.10.8"
  }
 },
 "nbformat": 4,
 "nbformat_minor": 5
}
